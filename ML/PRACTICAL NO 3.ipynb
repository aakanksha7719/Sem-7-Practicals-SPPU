{
 "cells": [
  {
   "cell_type": "code",
   "execution_count": 1,
   "id": "44f741d5",
   "metadata": {},
   "outputs": [],
   "source": [
    "import pandas as pd\n",
    "from sklearn.model_selection import train_test_split\n",
    "from sklearn.preprocessing import StandardScaler, OneHotEncoder\n",
    "from tensorflow.keras.models import Sequential\n",
    "from tensorflow.keras.layers import Dense\n",
    "from sklearn.metrics import accuracy_score, confusion_matrix"
   ]
  },
  {
   "cell_type": "code",
   "execution_count": 3,
   "id": "56ed13e4",
   "metadata": {},
   "outputs": [],
   "source": [
    "# Step 1: Read the dataset\n",
    "data = pd.read_csv('Churn_Modelling.csv')  # Assuming you have downloaded the dataset"
   ]
  },
  {
   "cell_type": "code",
   "execution_count": 4,
   "id": "e6db0628",
   "metadata": {},
   "outputs": [],
   "source": [
    "# Step 2: Distinguish the feature and target set and divide the data set into training and test sets.\n",
    "X = data.drop(['RowNumber', 'CustomerId', 'Surname', 'Exited'], axis=1)\n",
    "y = data['Exited']"
   ]
  },
  {
   "cell_type": "code",
   "execution_count": 5,
   "id": "c89eced5",
   "metadata": {},
   "outputs": [],
   "source": [
    "X_train, X_test, y_train, y_test = train_test_split(X, y, test_size=0.2, random_state=42)"
   ]
  },
  {
   "cell_type": "code",
   "execution_count": 6,
   "id": "1d421098",
   "metadata": {},
   "outputs": [],
   "source": [
    "# Step 3: Normalize the train and test data.\n",
    "scaler = StandardScaler()\n",
    "X_train_numeric = X_train.drop(['Geography', 'Gender'], axis=1)\n",
    "X_test_numeric = X_test.drop(['Geography', 'Gender'], axis=1)\n",
    "X_train_numeric = scaler.fit_transform(X_train_numeric)\n",
    "X_test_numeric = scaler.transform(X_test_numeric)"
   ]
  },
  {
   "cell_type": "code",
   "execution_count": 7,
   "id": "894c74af",
   "metadata": {},
   "outputs": [
    {
     "name": "stderr",
     "output_type": "stream",
     "text": [
      "C:\\Users\\HP\\AppData\\Local\\Programs\\Python\\Python310\\lib\\site-packages\\sklearn\\preprocessing\\_encoders.py:868: FutureWarning: `sparse` was renamed to `sparse_output` in version 1.2 and will be removed in 1.4. `sparse_output` is ignored unless you leave `sparse` to its default value.\n",
      "  warnings.warn(\n"
     ]
    }
   ],
   "source": [
    "# One-hot encoding for categorical variables\n",
    "encoder = OneHotEncoder(sparse=False, drop='first')\n",
    "X_train_categorical = encoder.fit_transform(X_train[['Geography', 'Gender']])\n",
    "X_test_categorical = encoder.transform(X_test[['Geography', 'Gender']])\n"
   ]
  },
  {
   "cell_type": "code",
   "execution_count": 8,
   "id": "95e4eee7",
   "metadata": {},
   "outputs": [],
   "source": [
    "# Concatenate the numeric and encoded categorical features\n",
    "X_train_processed = pd.concat([pd.DataFrame(X_train_numeric), pd.DataFrame(X_train_categorical)], axis=1)\n",
    "X_test_processed = pd.concat([pd.DataFrame(X_test_numeric), pd.DataFrame(X_test_categorical)], axis=1)"
   ]
  },
  {
   "cell_type": "code",
   "execution_count": 9,
   "id": "748260e4",
   "metadata": {},
   "outputs": [],
   "source": [
    "# Convert labels to numpy arrays\n",
    "y_train = y_train.to_numpy()\n",
    "y_test = y_test.to_numpy()"
   ]
  },
  {
   "cell_type": "code",
   "execution_count": 10,
   "id": "bd13ebc7",
   "metadata": {},
   "outputs": [
    {
     "name": "stdout",
     "output_type": "stream",
     "text": [
      "Epoch 1/10\n",
      "250/250 [==============================] - 2s 3ms/step - loss: 0.4591 - accuracy: 0.7949 - val_loss: 0.3894 - val_accuracy: 0.8320\n",
      "Epoch 2/10\n",
      "250/250 [==============================] - 1s 3ms/step - loss: 0.3793 - accuracy: 0.8444 - val_loss: 0.3531 - val_accuracy: 0.8570\n",
      "Epoch 3/10\n",
      "250/250 [==============================] - 1s 3ms/step - loss: 0.3515 - accuracy: 0.8555 - val_loss: 0.3514 - val_accuracy: 0.8590\n",
      "Epoch 4/10\n",
      "250/250 [==============================] - 1s 2ms/step - loss: 0.3435 - accuracy: 0.8579 - val_loss: 0.3463 - val_accuracy: 0.8655\n",
      "Epoch 5/10\n",
      "250/250 [==============================] - 1s 3ms/step - loss: 0.3394 - accuracy: 0.8593 - val_loss: 0.3484 - val_accuracy: 0.8615\n",
      "Epoch 6/10\n",
      "250/250 [==============================] - 1s 3ms/step - loss: 0.3356 - accuracy: 0.8627 - val_loss: 0.3434 - val_accuracy: 0.8565\n",
      "Epoch 7/10\n",
      "250/250 [==============================] - 1s 3ms/step - loss: 0.3335 - accuracy: 0.8633 - val_loss: 0.3481 - val_accuracy: 0.8585\n",
      "Epoch 8/10\n",
      "250/250 [==============================] - 1s 3ms/step - loss: 0.3307 - accuracy: 0.8622 - val_loss: 0.3400 - val_accuracy: 0.8605\n",
      "Epoch 9/10\n",
      "250/250 [==============================] - 1s 3ms/step - loss: 0.3289 - accuracy: 0.8658 - val_loss: 0.3394 - val_accuracy: 0.8645\n",
      "Epoch 10/10\n",
      "250/250 [==============================] - 1s 3ms/step - loss: 0.3284 - accuracy: 0.8619 - val_loss: 0.3419 - val_accuracy: 0.8640\n"
     ]
    },
    {
     "data": {
      "text/plain": [
       "<keras.src.callbacks.History at 0x1c49eeb6bc0>"
      ]
     },
     "execution_count": 10,
     "metadata": {},
     "output_type": "execute_result"
    }
   ],
   "source": [
    "# Step 4: Initialize and build the model.\n",
    "model = Sequential()\n",
    "model.add(Dense(64, activation='relu', input_dim=X_train_processed.shape[1]))\n",
    "model.add(Dense(32, activation='relu'))\n",
    "model.add(Dense(1, activation='sigmoid'))\n",
    "model.compile(optimizer='adam', loss='binary_crossentropy', metrics=['accuracy'])\n",
    "model.fit(X_train_processed, y_train, epochs=10, batch_size=32, validation_data=(X_test_processed, y_test))"
   ]
  },
  {
   "cell_type": "code",
   "execution_count": 11,
   "id": "9d86e3b2",
   "metadata": {},
   "outputs": [
    {
     "name": "stdout",
     "output_type": "stream",
     "text": [
      "63/63 [==============================] - 0s 2ms/step\n"
     ]
    }
   ],
   "source": [
    "# Step 5: Print the accuracy score and confusion matrix\n",
    "y_pred = (model.predict(X_test_processed) > 0.5).astype(\"int32\") \n",
    "accuracy = accuracy_score(y_test, y_pred)\n",
    "confusion = confusion_matrix(y_test, y_pred)"
   ]
  },
  {
   "cell_type": "code",
   "execution_count": 12,
   "id": "ced06975",
   "metadata": {},
   "outputs": [
    {
     "name": "stdout",
     "output_type": "stream",
     "text": [
      "Accuracy Score: 0.864\n",
      "Confusion Matrix:\n",
      "[[1534   73]\n",
      " [ 199  194]]\n"
     ]
    }
   ],
   "source": [
    "print(f\"Accuracy Score: {accuracy}\")\n",
    "print(\"Confusion Matrix:\")\n",
    "print(confusion)"
   ]
  }
 ],
 "metadata": {
  "kernelspec": {
   "display_name": "Python 3 (ipykernel)",
   "language": "python",
   "name": "python3"
  },
  "language_info": {
   "codemirror_mode": {
    "name": "ipython",
    "version": 3
   },
   "file_extension": ".py",
   "mimetype": "text/x-python",
   "name": "python",
   "nbconvert_exporter": "python",
   "pygments_lexer": "ipython3",
   "version": "3.10.10"
  }
 },
 "nbformat": 4,
 "nbformat_minor": 5
}

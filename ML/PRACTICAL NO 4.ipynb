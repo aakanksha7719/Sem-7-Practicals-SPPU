{
 "cells": [
  {
   "cell_type": "code",
   "execution_count": 3,
   "id": "19de0245",
   "metadata": {},
   "outputs": [],
   "source": [
    "# Define the function\n",
    "def function(x):\n",
    "    return (x + 3) ** 2"
   ]
  },
  {
   "cell_type": "code",
   "execution_count": 4,
   "id": "ced6c362",
   "metadata": {},
   "outputs": [],
   "source": [
    "# Define the derivative of the function\n",
    "def derivative(x):\n",
    "    return 2 * (x + 3)"
   ]
  },
  {
   "cell_type": "code",
   "execution_count": 5,
   "id": "fad87e0d",
   "metadata": {},
   "outputs": [],
   "source": [
    "# Hyperparameters\n",
    "learning_rate = 0.1\n",
    "num_iterations = 100"
   ]
  },
  {
   "cell_type": "code",
   "execution_count": 6,
   "id": "0ffbbf30",
   "metadata": {},
   "outputs": [],
   "source": [
    "# Initial point\n",
    "x = 2"
   ]
  },
  {
   "cell_type": "code",
   "execution_count": 7,
   "id": "f42ebc78",
   "metadata": {},
   "outputs": [],
   "source": [
    "# Gradient Descent\n",
    "for i in range(num_iterations):\n",
    "    gradient = derivative(x)\n",
    "    x = x - learning_rate * gradient"
   ]
  },
  {
   "cell_type": "code",
   "execution_count": 8,
   "id": "26050b7d",
   "metadata": {},
   "outputs": [],
   "source": [
    "# The value of x at the local minimum\n",
    "local_minima = x\n",
    "min_value = function(x)"
   ]
  },
  {
   "cell_type": "code",
   "execution_count": 9,
   "id": "6f1ab0ec",
   "metadata": {},
   "outputs": [
    {
     "name": "stdout",
     "output_type": "stream",
     "text": [
      "Local minimum at x = -2.999999998981482, y = 1.0373792396055266e-18\n"
     ]
    }
   ],
   "source": [
    "print(f\"Local minimum at x = {local_minima}, y = {min_value}\")"
   ]
  }
 ],
 "metadata": {
  "kernelspec": {
   "display_name": "Python 3 (ipykernel)",
   "language": "python",
   "name": "python3"
  },
  "language_info": {
   "codemirror_mode": {
    "name": "ipython",
    "version": 3
   },
   "file_extension": ".py",
   "mimetype": "text/x-python",
   "name": "python",
   "nbconvert_exporter": "python",
   "pygments_lexer": "ipython3",
   "version": "3.10.10"
  }
 },
 "nbformat": 4,
 "nbformat_minor": 5
}
